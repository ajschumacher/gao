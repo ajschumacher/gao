{
 "cells": [
  {
   "cell_type": "markdown",
   "metadata": {},
   "source": [
    "Looking for words or phrases that occur disproportionately often in sustained (or not sustained) protests."
   ]
  },
  {
   "cell_type": "code",
   "execution_count": 1,
   "metadata": {
    "collapsed": false
   },
   "outputs": [],
   "source": [
    "import pandas as pd\n",
    "from sklearn.feature_extraction.text import CountVectorizer"
   ]
  },
  {
   "cell_type": "code",
   "execution_count": 2,
   "metadata": {
    "collapsed": true
   },
   "outputs": [],
   "source": [
    "data = pd.read_csv('protests.csv')"
   ]
  },
  {
   "cell_type": "code",
   "execution_count": 3,
   "metadata": {
    "collapsed": false
   },
   "outputs": [
    {
     "data": {
      "text/plain": [
       "(2298, 13)"
      ]
     },
     "execution_count": 3,
     "metadata": {},
     "output_type": "execute_result"
    }
   ],
   "source": [
    "data.shape"
   ]
  },
  {
   "cell_type": "code",
   "execution_count": 4,
   "metadata": {
    "collapsed": false
   },
   "outputs": [
    {
     "data": {
      "text/html": [
       "<div>\n",
       "<table border=\"1\" class=\"dataframe\">\n",
       "  <thead>\n",
       "    <tr style=\"text-align: right;\">\n",
       "      <th>outcome</th>\n",
       "      <th>Denied</th>\n",
       "      <th>Dismissed</th>\n",
       "      <th>Sustained</th>\n",
       "      <th>Withdrawn</th>\n",
       "    </tr>\n",
       "    <tr>\n",
       "      <th>summary</th>\n",
       "      <th></th>\n",
       "      <th></th>\n",
       "      <th></th>\n",
       "      <th></th>\n",
       "    </tr>\n",
       "  </thead>\n",
       "  <tbody>\n",
       "    <tr>\n",
       "      <th>False</th>\n",
       "      <td>52</td>\n",
       "      <td>1394</td>\n",
       "      <td>28</td>\n",
       "      <td>399</td>\n",
       "    </tr>\n",
       "    <tr>\n",
       "      <th>True</th>\n",
       "      <td>350</td>\n",
       "      <td>15</td>\n",
       "      <td>60</td>\n",
       "      <td>0</td>\n",
       "    </tr>\n",
       "  </tbody>\n",
       "</table>\n",
       "</div>"
      ],
      "text/plain": [
       "outcome  Denied  Dismissed  Sustained  Withdrawn\n",
       "summary                                         \n",
       "False        52       1394         28        399\n",
       "True        350         15         60          0"
      ]
     },
     "execution_count": 4,
     "metadata": {},
     "output_type": "execute_result"
    }
   ],
   "source": [
    "pd.crosstab(~data.summary.isnull(), data.outcome)"
   ]
  },
  {
   "cell_type": "code",
   "execution_count": 5,
   "metadata": {
    "collapsed": false
   },
   "outputs": [
    {
     "data": {
      "text/plain": [
       "2298"
      ]
     },
     "execution_count": 5,
     "metadata": {},
     "output_type": "execute_result"
    }
   ],
   "source": [
    "_.sum().sum()  # Just checking that things add up..."
   ]
  },
  {
   "cell_type": "markdown",
   "metadata": {},
   "source": [
    "I'm not happy to be missing over 30% of the sustained cases' summaries, and over 12% of the denied cases' summaries. And only 1% of dismissed cases have summaries, but that might be expected.\n",
    "\n",
    "Is something going wrong?\n",
    "\n",
    "Anyway, let's try with the data we have, trying to find what differentiates \"Denied\" from \"Sustained\" or \"Dismissed\" summaries."
   ]
  },
  {
   "cell_type": "code",
   "execution_count": 6,
   "metadata": {
    "collapsed": true
   },
   "outputs": [],
   "source": [
    "data = data[data.outcome.isin(['Denied', 'Sustained', 'Dismissed']) & ~data.summary.isnull()]"
   ]
  },
  {
   "cell_type": "code",
   "execution_count": 7,
   "metadata": {
    "collapsed": false
   },
   "outputs": [
    {
     "data": {
      "text/plain": [
       "(425, 13)"
      ]
     },
     "execution_count": 7,
     "metadata": {},
     "output_type": "execute_result"
    }
   ],
   "source": [
    "data.shape"
   ]
  },
  {
   "cell_type": "code",
   "execution_count": 8,
   "metadata": {
    "collapsed": true
   },
   "outputs": [],
   "source": [
    "def hot_terms(texts, sustained, vectorizer):\n",
    "    X = vectorizer.fit_transform(texts)\n",
    "    X = pd.DataFrame(X.toarray(), columns=vectorizer.get_feature_names())\n",
    "    X = 0 < X\n",
    "    sustained.index = X.index\n",
    "    sustained_n = X[sustained].sum()\n",
    "    not_sustained_n = X[~sustained].sum()\n",
    "    sustained_prop = X[sustained].mean()\n",
    "    not_sustained_prop = X[~sustained].mean()\n",
    "    more_sustained = sustained_prop / (not_sustained_prop + 1.0/sum(sustained))\n",
    "    more_not_sustained = not_sustained_prop / (sustained_prop + 1.0/sum(~sustained))\n",
    "    results = pd.DataFrame.from_items([('more_sustained', more_sustained),\n",
    "                                   ('sustained_n (of {})'.format(sustained.sum()), sustained_n),\n",
    "                                   ('sustained_prop', sustained_prop),\n",
    "                                   ('not_sustained_prop', not_sustained_prop),\n",
    "                                   ('not_sustained_n (of {})'.format((~sustained).sum()), not_sustained_n),\n",
    "                                   ('more_not_sustained', more_not_sustained)])\n",
    "    return results"
   ]
  },
  {
   "cell_type": "code",
   "execution_count": 9,
   "metadata": {
    "collapsed": true
   },
   "outputs": [],
   "source": [
    "words = hot_terms(data.summary, data.outcome == 'Sustained', CountVectorizer())"
   ]
  },
  {
   "cell_type": "code",
   "execution_count": 10,
   "metadata": {
    "collapsed": false
   },
   "outputs": [
    {
     "data": {
      "text/html": [
       "<div>\n",
       "<table border=\"1\" class=\"dataframe\">\n",
       "  <thead>\n",
       "    <tr style=\"text-align: right;\">\n",
       "      <th></th>\n",
       "      <th>more_sustained</th>\n",
       "      <th>sustained_n (of 60)</th>\n",
       "      <th>sustained_prop</th>\n",
       "      <th>not_sustained_prop</th>\n",
       "      <th>not_sustained_n (of 365)</th>\n",
       "      <th>more_not_sustained</th>\n",
       "    </tr>\n",
       "  </thead>\n",
       "  <tbody>\n",
       "    <tr>\n",
       "      <th>sustain</th>\n",
       "      <td>60.000000</td>\n",
       "      <td>60</td>\n",
       "      <td>1.000000</td>\n",
       "      <td>0.000000</td>\n",
       "      <td>0</td>\n",
       "      <td>0.000000</td>\n",
       "    </tr>\n",
       "    <tr>\n",
       "      <th>acquire</th>\n",
       "      <td>7.525773</td>\n",
       "      <td>10</td>\n",
       "      <td>0.166667</td>\n",
       "      <td>0.005479</td>\n",
       "      <td>2</td>\n",
       "      <td>0.032345</td>\n",
       "    </tr>\n",
       "    <tr>\n",
       "      <th>tenica</th>\n",
       "      <td>7.000000</td>\n",
       "      <td>7</td>\n",
       "      <td>0.116667</td>\n",
       "      <td>0.000000</td>\n",
       "      <td>0</td>\n",
       "      <td>0.000000</td>\n",
       "    </tr>\n",
       "    <tr>\n",
       "      <th>tasa</th>\n",
       "      <td>7.000000</td>\n",
       "      <td>7</td>\n",
       "      <td>0.116667</td>\n",
       "      <td>0.000000</td>\n",
       "      <td>0</td>\n",
       "      <td>0.000000</td>\n",
       "    </tr>\n",
       "    <tr>\n",
       "      <th>tek</th>\n",
       "      <td>7.000000</td>\n",
       "      <td>7</td>\n",
       "      <td>0.116667</td>\n",
       "      <td>0.000000</td>\n",
       "      <td>0</td>\n",
       "      <td>0.000000</td>\n",
       "    </tr>\n",
       "    <tr>\n",
       "      <th>metis</th>\n",
       "      <td>7.000000</td>\n",
       "      <td>7</td>\n",
       "      <td>0.116667</td>\n",
       "      <td>0.000000</td>\n",
       "      <td>0</td>\n",
       "      <td>0.000000</td>\n",
       "    </tr>\n",
       "  </tbody>\n",
       "</table>\n",
       "</div>"
      ],
      "text/plain": [
       "         more_sustained  sustained_n (of 60)  sustained_prop  \\\n",
       "sustain       60.000000                   60        1.000000   \n",
       "acquire        7.525773                   10        0.166667   \n",
       "tenica         7.000000                    7        0.116667   \n",
       "tasa           7.000000                    7        0.116667   \n",
       "tek            7.000000                    7        0.116667   \n",
       "metis          7.000000                    7        0.116667   \n",
       "\n",
       "         not_sustained_prop  not_sustained_n (of 365)  more_not_sustained  \n",
       "sustain            0.000000                         0            0.000000  \n",
       "acquire            0.005479                         2            0.032345  \n",
       "tenica             0.000000                         0            0.000000  \n",
       "tasa               0.000000                         0            0.000000  \n",
       "tek                0.000000                         0            0.000000  \n",
       "metis              0.000000                         0            0.000000  "
      ]
     },
     "execution_count": 10,
     "metadata": {},
     "output_type": "execute_result"
    }
   ],
   "source": [
    "words.sort('more_sustained', ascending=False).head(6)"
   ]
  },
  {
   "cell_type": "code",
   "execution_count": 11,
   "metadata": {
    "collapsed": false
   },
   "outputs": [
    {
     "data": {
      "text/html": [
       "<div>\n",
       "<table border=\"1\" class=\"dataframe\">\n",
       "  <thead>\n",
       "    <tr style=\"text-align: right;\">\n",
       "      <th></th>\n",
       "      <th>more_sustained</th>\n",
       "      <th>sustained_n (of 60)</th>\n",
       "      <th>sustained_prop</th>\n",
       "      <th>not_sustained_prop</th>\n",
       "      <th>not_sustained_n (of 365)</th>\n",
       "      <th>more_not_sustained</th>\n",
       "    </tr>\n",
       "  </thead>\n",
       "  <tbody>\n",
       "    <tr>\n",
       "      <th>dismiss</th>\n",
       "      <td>0</td>\n",
       "      <td>0</td>\n",
       "      <td>0</td>\n",
       "      <td>0.115068</td>\n",
       "      <td>42</td>\n",
       "      <td>42</td>\n",
       "    </tr>\n",
       "    <tr>\n",
       "      <th>national</th>\n",
       "      <td>0</td>\n",
       "      <td>0</td>\n",
       "      <td>0</td>\n",
       "      <td>0.084932</td>\n",
       "      <td>31</td>\n",
       "      <td>31</td>\n",
       "    </tr>\n",
       "    <tr>\n",
       "      <th>resulting</th>\n",
       "      <td>0</td>\n",
       "      <td>0</td>\n",
       "      <td>0</td>\n",
       "      <td>0.076712</td>\n",
       "      <td>28</td>\n",
       "      <td>28</td>\n",
       "    </tr>\n",
       "    <tr>\n",
       "      <th>contracting</th>\n",
       "      <td>0</td>\n",
       "      <td>0</td>\n",
       "      <td>0</td>\n",
       "      <td>0.073973</td>\n",
       "      <td>27</td>\n",
       "      <td>27</td>\n",
       "    </tr>\n",
       "    <tr>\n",
       "      <th>dla</th>\n",
       "      <td>0</td>\n",
       "      <td>0</td>\n",
       "      <td>0</td>\n",
       "      <td>0.071233</td>\n",
       "      <td>26</td>\n",
       "      <td>26</td>\n",
       "    </tr>\n",
       "    <tr>\n",
       "      <th>pursuant</th>\n",
       "      <td>0</td>\n",
       "      <td>0</td>\n",
       "      <td>0</td>\n",
       "      <td>0.071233</td>\n",
       "      <td>26</td>\n",
       "      <td>26</td>\n",
       "    </tr>\n",
       "  </tbody>\n",
       "</table>\n",
       "</div>"
      ],
      "text/plain": [
       "             more_sustained  sustained_n (of 60)  sustained_prop  \\\n",
       "dismiss                   0                    0               0   \n",
       "national                  0                    0               0   \n",
       "resulting                 0                    0               0   \n",
       "contracting               0                    0               0   \n",
       "dla                       0                    0               0   \n",
       "pursuant                  0                    0               0   \n",
       "\n",
       "             not_sustained_prop  not_sustained_n (of 365)  more_not_sustained  \n",
       "dismiss                0.115068                        42                  42  \n",
       "national               0.084932                        31                  31  \n",
       "resulting              0.076712                        28                  28  \n",
       "contracting            0.073973                        27                  27  \n",
       "dla                    0.071233                        26                  26  \n",
       "pursuant               0.071233                        26                  26  "
      ]
     },
     "execution_count": 11,
     "metadata": {},
     "output_type": "execute_result"
    }
   ],
   "source": [
    "words.sort('more_not_sustained', ascending=False).head(6)"
   ]
  },
  {
   "cell_type": "markdown",
   "metadata": {},
   "source": [
    "Is it alarming that all the summaries with the word \"national\" were not sustained? I don't know. The above is not very interesting to me."
   ]
  },
  {
   "cell_type": "code",
   "execution_count": 12,
   "metadata": {
    "collapsed": true
   },
   "outputs": [],
   "source": [
    "pairs = hot_terms(data.summary, data.outcome == 'Sustained', CountVectorizer(ngram_range=(2, 2)))"
   ]
  },
  {
   "cell_type": "code",
   "execution_count": 13,
   "metadata": {
    "collapsed": false
   },
   "outputs": [
    {
     "data": {
      "text/html": [
       "<div>\n",
       "<table border=\"1\" class=\"dataframe\">\n",
       "  <thead>\n",
       "    <tr style=\"text-align: right;\">\n",
       "      <th></th>\n",
       "      <th>more_sustained</th>\n",
       "      <th>sustained_n (of 60)</th>\n",
       "      <th>sustained_prop</th>\n",
       "      <th>not_sustained_prop</th>\n",
       "      <th>not_sustained_n (of 365)</th>\n",
       "      <th>more_not_sustained</th>\n",
       "    </tr>\n",
       "  </thead>\n",
       "  <tbody>\n",
       "    <tr>\n",
       "      <th>we sustain</th>\n",
       "      <td>58.000000</td>\n",
       "      <td>58</td>\n",
       "      <td>0.966667</td>\n",
       "      <td>0.000000</td>\n",
       "      <td>0</td>\n",
       "      <td>0.000000</td>\n",
       "    </tr>\n",
       "    <tr>\n",
       "      <th>sustain the</th>\n",
       "      <td>58.000000</td>\n",
       "      <td>58</td>\n",
       "      <td>0.966667</td>\n",
       "      <td>0.000000</td>\n",
       "      <td>0</td>\n",
       "      <td>0.000000</td>\n",
       "    </tr>\n",
       "    <tr>\n",
       "      <th>and deny</th>\n",
       "      <td>10.256198</td>\n",
       "      <td>17</td>\n",
       "      <td>0.283333</td>\n",
       "      <td>0.010959</td>\n",
       "      <td>4</td>\n",
       "      <td>0.038308</td>\n",
       "    </tr>\n",
       "    <tr>\n",
       "      <th>tennessee and</th>\n",
       "      <td>9.000000</td>\n",
       "      <td>9</td>\n",
       "      <td>0.150000</td>\n",
       "      <td>0.000000</td>\n",
       "      <td>0</td>\n",
       "      <td>0.000000</td>\n",
       "    </tr>\n",
       "    <tr>\n",
       "      <th>deny them</th>\n",
       "      <td>9.000000</td>\n",
       "      <td>9</td>\n",
       "      <td>0.150000</td>\n",
       "      <td>0.000000</td>\n",
       "      <td>0</td>\n",
       "      <td>0.000000</td>\n",
       "    </tr>\n",
       "    <tr>\n",
       "      <th>misevaluated proposals</th>\n",
       "      <td>7.525773</td>\n",
       "      <td>10</td>\n",
       "      <td>0.166667</td>\n",
       "      <td>0.005479</td>\n",
       "      <td>2</td>\n",
       "      <td>0.032345</td>\n",
       "    </tr>\n",
       "  </tbody>\n",
       "</table>\n",
       "</div>"
      ],
      "text/plain": [
       "                        more_sustained  sustained_n (of 60)  sustained_prop  \\\n",
       "we sustain                   58.000000                   58        0.966667   \n",
       "sustain the                  58.000000                   58        0.966667   \n",
       "and deny                     10.256198                   17        0.283333   \n",
       "tennessee and                 9.000000                    9        0.150000   \n",
       "deny them                     9.000000                    9        0.150000   \n",
       "misevaluated proposals        7.525773                   10        0.166667   \n",
       "\n",
       "                        not_sustained_prop  not_sustained_n (of 365)  \\\n",
       "we sustain                        0.000000                         0   \n",
       "sustain the                       0.000000                         0   \n",
       "and deny                          0.010959                         4   \n",
       "tennessee and                     0.000000                         0   \n",
       "deny them                         0.000000                         0   \n",
       "misevaluated proposals            0.005479                         2   \n",
       "\n",
       "                        more_not_sustained  \n",
       "we sustain                        0.000000  \n",
       "sustain the                       0.000000  \n",
       "and deny                          0.038308  \n",
       "tennessee and                     0.000000  \n",
       "deny them                         0.000000  \n",
       "misevaluated proposals            0.032345  "
      ]
     },
     "execution_count": 13,
     "metadata": {},
     "output_type": "execute_result"
    }
   ],
   "source": [
    "pairs.sort('more_sustained', ascending=False).head(6)"
   ]
  },
  {
   "cell_type": "code",
   "execution_count": 14,
   "metadata": {
    "collapsed": false
   },
   "outputs": [
    {
     "data": {
      "text/html": [
       "<div>\n",
       "<table border=\"1\" class=\"dataframe\">\n",
       "  <thead>\n",
       "    <tr style=\"text-align: right;\">\n",
       "      <th></th>\n",
       "      <th>more_sustained</th>\n",
       "      <th>sustained_n (of 60)</th>\n",
       "      <th>sustained_prop</th>\n",
       "      <th>not_sustained_prop</th>\n",
       "      <th>not_sustained_n (of 365)</th>\n",
       "      <th>more_not_sustained</th>\n",
       "    </tr>\n",
       "  </thead>\n",
       "  <tbody>\n",
       "    <tr>\n",
       "      <th>the defense</th>\n",
       "      <td>0.000000</td>\n",
       "      <td>0</td>\n",
       "      <td>0.000000</td>\n",
       "      <td>0.095890</td>\n",
       "      <td>35</td>\n",
       "      <td>35.000000</td>\n",
       "    </tr>\n",
       "    <tr>\n",
       "      <th>of proposals</th>\n",
       "      <td>0.000000</td>\n",
       "      <td>0</td>\n",
       "      <td>0.000000</td>\n",
       "      <td>0.090411</td>\n",
       "      <td>33</td>\n",
       "      <td>33.000000</td>\n",
       "    </tr>\n",
       "    <tr>\n",
       "      <th>to request</th>\n",
       "      <td>0.000000</td>\n",
       "      <td>0</td>\n",
       "      <td>0.000000</td>\n",
       "      <td>0.082192</td>\n",
       "      <td>30</td>\n",
       "      <td>30.000000</td>\n",
       "    </tr>\n",
       "    <tr>\n",
       "      <th>defense logistics</th>\n",
       "      <td>0.000000</td>\n",
       "      <td>0</td>\n",
       "      <td>0.000000</td>\n",
       "      <td>0.073973</td>\n",
       "      <td>27</td>\n",
       "      <td>27.000000</td>\n",
       "    </tr>\n",
       "    <tr>\n",
       "      <th>and dismiss</th>\n",
       "      <td>0.000000</td>\n",
       "      <td>0</td>\n",
       "      <td>0.000000</td>\n",
       "      <td>0.073973</td>\n",
       "      <td>27</td>\n",
       "      <td>27.000000</td>\n",
       "    </tr>\n",
       "    <tr>\n",
       "      <th>we deny</th>\n",
       "      <td>0.034655</td>\n",
       "      <td>2</td>\n",
       "      <td>0.033333</td>\n",
       "      <td>0.945205</td>\n",
       "      <td>345</td>\n",
       "      <td>26.202532</td>\n",
       "    </tr>\n",
       "  </tbody>\n",
       "</table>\n",
       "</div>"
      ],
      "text/plain": [
       "                   more_sustained  sustained_n (of 60)  sustained_prop  \\\n",
       "the defense              0.000000                    0        0.000000   \n",
       "of proposals             0.000000                    0        0.000000   \n",
       "to request               0.000000                    0        0.000000   \n",
       "defense logistics        0.000000                    0        0.000000   \n",
       "and dismiss              0.000000                    0        0.000000   \n",
       "we deny                  0.034655                    2        0.033333   \n",
       "\n",
       "                   not_sustained_prop  not_sustained_n (of 365)  \\\n",
       "the defense                  0.095890                        35   \n",
       "of proposals                 0.090411                        33   \n",
       "to request                   0.082192                        30   \n",
       "defense logistics            0.073973                        27   \n",
       "and dismiss                  0.073973                        27   \n",
       "we deny                      0.945205                       345   \n",
       "\n",
       "                   more_not_sustained  \n",
       "the defense                 35.000000  \n",
       "of proposals                33.000000  \n",
       "to request                  30.000000  \n",
       "defense logistics           27.000000  \n",
       "and dismiss                 27.000000  \n",
       "we deny                     26.202532  "
      ]
     },
     "execution_count": 14,
     "metadata": {},
     "output_type": "execute_result"
    }
   ],
   "source": [
    "pairs.sort('more_not_sustained', ascending=False).head(6)"
   ]
  },
  {
   "cell_type": "markdown",
   "metadata": {},
   "source": [
    "Maybe that's interesting?"
   ]
  },
  {
   "cell_type": "code",
   "execution_count": 15,
   "metadata": {
    "collapsed": true
   },
   "outputs": [],
   "source": [
    "triples = hot_terms(data.summary, data.outcome == 'Sustained', CountVectorizer(ngram_range=(3, 3)))"
   ]
  },
  {
   "cell_type": "code",
   "execution_count": 16,
   "metadata": {
    "collapsed": false
   },
   "outputs": [
    {
     "data": {
      "text/html": [
       "<div>\n",
       "<table border=\"1\" class=\"dataframe\">\n",
       "  <thead>\n",
       "    <tr style=\"text-align: right;\">\n",
       "      <th></th>\n",
       "      <th>more_sustained</th>\n",
       "      <th>sustained_n (of 60)</th>\n",
       "      <th>sustained_prop</th>\n",
       "      <th>not_sustained_prop</th>\n",
       "      <th>not_sustained_n (of 365)</th>\n",
       "      <th>more_not_sustained</th>\n",
       "    </tr>\n",
       "  </thead>\n",
       "  <tbody>\n",
       "    <tr>\n",
       "      <th>we sustain the</th>\n",
       "      <td>58.000000</td>\n",
       "      <td>58</td>\n",
       "      <td>0.966667</td>\n",
       "      <td>0.000000</td>\n",
       "      <td>0</td>\n",
       "      <td>0.000000</td>\n",
       "    </tr>\n",
       "    <tr>\n",
       "      <th>sustain the protest</th>\n",
       "      <td>37.000000</td>\n",
       "      <td>37</td>\n",
       "      <td>0.616667</td>\n",
       "      <td>0.000000</td>\n",
       "      <td>0</td>\n",
       "      <td>0.000000</td>\n",
       "    </tr>\n",
       "    <tr>\n",
       "      <th>sustain the protests</th>\n",
       "      <td>21.000000</td>\n",
       "      <td>21</td>\n",
       "      <td>0.350000</td>\n",
       "      <td>0.000000</td>\n",
       "      <td>0</td>\n",
       "      <td>0.000000</td>\n",
       "    </tr>\n",
       "    <tr>\n",
       "      <th>decision we sustain</th>\n",
       "      <td>14.000000</td>\n",
       "      <td>14</td>\n",
       "      <td>0.233333</td>\n",
       "      <td>0.000000</td>\n",
       "      <td>0</td>\n",
       "      <td>0.000000</td>\n",
       "    </tr>\n",
       "    <tr>\n",
       "      <th>part and deny</th>\n",
       "      <td>10.256198</td>\n",
       "      <td>17</td>\n",
       "      <td>0.283333</td>\n",
       "      <td>0.010959</td>\n",
       "      <td>4</td>\n",
       "      <td>0.038308</td>\n",
       "    </tr>\n",
       "    <tr>\n",
       "      <th>and deny them</th>\n",
       "      <td>9.000000</td>\n",
       "      <td>9</td>\n",
       "      <td>0.150000</td>\n",
       "      <td>0.000000</td>\n",
       "      <td>0</td>\n",
       "      <td>0.000000</td>\n",
       "    </tr>\n",
       "  </tbody>\n",
       "</table>\n",
       "</div>"
      ],
      "text/plain": [
       "                      more_sustained  sustained_n (of 60)  sustained_prop  \\\n",
       "we sustain the             58.000000                   58        0.966667   \n",
       "sustain the protest        37.000000                   37        0.616667   \n",
       "sustain the protests       21.000000                   21        0.350000   \n",
       "decision we sustain        14.000000                   14        0.233333   \n",
       "part and deny              10.256198                   17        0.283333   \n",
       "and deny them               9.000000                    9        0.150000   \n",
       "\n",
       "                      not_sustained_prop  not_sustained_n (of 365)  \\\n",
       "we sustain the                  0.000000                         0   \n",
       "sustain the protest             0.000000                         0   \n",
       "sustain the protests            0.000000                         0   \n",
       "decision we sustain             0.000000                         0   \n",
       "part and deny                   0.010959                         4   \n",
       "and deny them                   0.000000                         0   \n",
       "\n",
       "                      more_not_sustained  \n",
       "we sustain the                  0.000000  \n",
       "sustain the protest             0.000000  \n",
       "sustain the protests            0.000000  \n",
       "decision we sustain             0.000000  \n",
       "part and deny                   0.038308  \n",
       "and deny them                   0.000000  "
      ]
     },
     "execution_count": 16,
     "metadata": {},
     "output_type": "execute_result"
    }
   ],
   "source": [
    "triples.sort('more_sustained', ascending=False).head(6)"
   ]
  },
  {
   "cell_type": "code",
   "execution_count": 17,
   "metadata": {
    "collapsed": false
   },
   "outputs": [
    {
     "data": {
      "text/html": [
       "<div>\n",
       "<table border=\"1\" class=\"dataframe\">\n",
       "  <thead>\n",
       "    <tr style=\"text-align: right;\">\n",
       "      <th></th>\n",
       "      <th>more_sustained</th>\n",
       "      <th>sustained_n (of 60)</th>\n",
       "      <th>sustained_prop</th>\n",
       "      <th>not_sustained_prop</th>\n",
       "      <th>not_sustained_n (of 365)</th>\n",
       "      <th>more_not_sustained</th>\n",
       "    </tr>\n",
       "  </thead>\n",
       "  <tbody>\n",
       "    <tr>\n",
       "      <th>deny the protests</th>\n",
       "      <td>0</td>\n",
       "      <td>0</td>\n",
       "      <td>0</td>\n",
       "      <td>0.136986</td>\n",
       "      <td>50</td>\n",
       "      <td>50</td>\n",
       "    </tr>\n",
       "    <tr>\n",
       "      <th>decision we deny</th>\n",
       "      <td>0</td>\n",
       "      <td>0</td>\n",
       "      <td>0</td>\n",
       "      <td>0.117808</td>\n",
       "      <td>43</td>\n",
       "      <td>43</td>\n",
       "    </tr>\n",
       "    <tr>\n",
       "      <th>evaluation of proposals</th>\n",
       "      <td>0</td>\n",
       "      <td>0</td>\n",
       "      <td>0</td>\n",
       "      <td>0.087671</td>\n",
       "      <td>32</td>\n",
       "      <td>32</td>\n",
       "    </tr>\n",
       "    <tr>\n",
       "      <th>to request for</th>\n",
       "      <td>0</td>\n",
       "      <td>0</td>\n",
       "      <td>0</td>\n",
       "      <td>0.082192</td>\n",
       "      <td>30</td>\n",
       "      <td>30</td>\n",
       "    </tr>\n",
       "    <tr>\n",
       "      <th>part and dismiss</th>\n",
       "      <td>0</td>\n",
       "      <td>0</td>\n",
       "      <td>0</td>\n",
       "      <td>0.073973</td>\n",
       "      <td>27</td>\n",
       "      <td>27</td>\n",
       "    </tr>\n",
       "    <tr>\n",
       "      <th>defense logistics agency</th>\n",
       "      <td>0</td>\n",
       "      <td>0</td>\n",
       "      <td>0</td>\n",
       "      <td>0.071233</td>\n",
       "      <td>26</td>\n",
       "      <td>26</td>\n",
       "    </tr>\n",
       "  </tbody>\n",
       "</table>\n",
       "</div>"
      ],
      "text/plain": [
       "                          more_sustained  sustained_n (of 60)  sustained_prop  \\\n",
       "deny the protests                      0                    0               0   \n",
       "decision we deny                       0                    0               0   \n",
       "evaluation of proposals                0                    0               0   \n",
       "to request for                         0                    0               0   \n",
       "part and dismiss                       0                    0               0   \n",
       "defense logistics agency               0                    0               0   \n",
       "\n",
       "                          not_sustained_prop  not_sustained_n (of 365)  \\\n",
       "deny the protests                   0.136986                        50   \n",
       "decision we deny                    0.117808                        43   \n",
       "evaluation of proposals             0.087671                        32   \n",
       "to request for                      0.082192                        30   \n",
       "part and dismiss                    0.073973                        27   \n",
       "defense logistics agency            0.071233                        26   \n",
       "\n",
       "                          more_not_sustained  \n",
       "deny the protests                         50  \n",
       "decision we deny                          43  \n",
       "evaluation of proposals                   32  \n",
       "to request for                            30  \n",
       "part and dismiss                          27  \n",
       "defense logistics agency                  26  "
      ]
     },
     "execution_count": 17,
     "metadata": {},
     "output_type": "execute_result"
    }
   ],
   "source": [
    "triples.sort('more_not_sustained', ascending=False).head(6)"
   ]
  },
  {
   "cell_type": "markdown",
   "metadata": {},
   "source": [
    "I haven't looked through these much; maybe there's something interesting to be seen?\n",
    "\n",
    "My main observation is that beyond the phrases specifically about sustaining or denying, words that appear \"disproportionately\" make a pretty small percentage of already small total numbers."
   ]
  },
  {
   "cell_type": "code",
   "execution_count": null,
   "metadata": {
    "collapsed": true
   },
   "outputs": [],
   "source": []
  }
 ],
 "metadata": {
  "kernelspec": {
   "display_name": "Python 2",
   "language": "python",
   "name": "python2"
  },
  "language_info": {
   "codemirror_mode": {
    "name": "ipython",
    "version": 2
   },
   "file_extension": ".py",
   "mimetype": "text/x-python",
   "name": "python",
   "nbconvert_exporter": "python",
   "pygments_lexer": "ipython2",
   "version": "2.7.10"
  }
 },
 "nbformat": 4,
 "nbformat_minor": 0
}
